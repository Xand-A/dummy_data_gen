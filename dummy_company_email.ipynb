{
 "cells": [
  {
   "cell_type": "markdown",
   "metadata": {},
   "source": [
    "## Dummy email generator\n",
    "\n",
    "Using Faker package to create dummy emails which can be used within modelling projects"
   ]
  },
  {
   "cell_type": "code",
   "execution_count": 1,
   "metadata": {},
   "outputs": [],
   "source": [
    "import re\n",
    "from faker import Faker\n",
    "from faker.providers import BaseProvider\n",
    "\n",
    "import random\n",
    "from math import floor\n",
    "from random_word import RandomWords"
   ]
  },
  {
   "cell_type": "code",
   "execution_count": 2,
   "metadata": {},
   "outputs": [],
   "source": [
    "Faker.seed(0)\n",
    "\n",
    "fake = Faker('en_GB')\n"
   ]
  },
  {
   "cell_type": "code",
   "execution_count": 3,
   "metadata": {},
   "outputs": [],
   "source": [
    "def random_company(sample_size):\n",
    "    \"\"\"\n",
    "    Use faker to generate 50% of company names, and a random word as the other 50%.\n",
    "    This should produce company names based on people but also give examples closer to `Apple`, `Google` etc.\n",
    "    Returns a list of size `sample_size`\n",
    "    \"\"\"\n",
    "    fake = Faker()\n",
    "    rw = RandomWords()\n",
    "    company = []\n",
    "    for _ in range(floor(sample_size/2)):\n",
    "        company.append(fake.company())\n",
    "    for _ in range(sample_size - floor(sample_size/2)):\n",
    "        company.append(rw.get_random_word().title())\n",
    "    random.shuffle(company)\n",
    "    return company"
   ]
  },
  {
   "cell_type": "code",
   "execution_count": 4,
   "metadata": {},
   "outputs": [
    {
     "data": {
      "text/plain": [
       "['Faulkner-Howard',\n",
       " 'Terceroon',\n",
       " 'Sheppard-Tucker',\n",
       " 'Musterer',\n",
       " 'Dewlike',\n",
       " 'Wagner LLC',\n",
       " 'Campos PLC',\n",
       " 'Chang-Fisher',\n",
       " 'Jumblers',\n",
       " 'Daboia']"
      ]
     },
     "execution_count": 4,
     "metadata": {},
     "output_type": "execute_result"
    }
   ],
   "source": [
    "\n",
    "# Create a list of random companies\n",
    "companies = random_company(10)\n",
    "companies"
   ]
  },
  {
   "cell_type": "markdown",
   "metadata": {},
   "source": [
    "### Generate email domain based off of company names"
   ]
  },
  {
   "cell_type": "code",
   "execution_count": 5,
   "metadata": {},
   "outputs": [],
   "source": [
    "punctuationlist='[_`.\\'?/!%,\\]\\[:\";=+£#@*$()<>&|0-9]'\n",
    "remove = [r'\\bthe\\b', r'\\band\\b', r'\\bltd\\b', r'\\bplc\\b', r'\\binc\\b', r'\\bco\\b', r'\\bcorp\\b', r'\\bllc\\b']\n",
    "\n",
    "def punctuations_remover(string,punctuationlist):\n",
    "        '''Remove punctuations/special charecters and append the notes to a list as a list of token\n",
    "            Remove punctuation from the tokenized notes'''\n",
    "        try:\n",
    "            post_punctuation_string=[]\n",
    "            #for token in string:\n",
    "            word=re.compile(punctuationlist).sub(\"\",string)\n",
    "            if len(word)>0:\n",
    "                post_punctuation_string.append(word)                    \n",
    "        except Exception as e:\n",
    "            raise Exception(\"Error in Class - Text_processor in function - punctuations_remover(). ERROR - \"+str(e))  \n",
    "\n",
    "        if post_punctuation_string:       \n",
    "            return post_punctuation_string[0]"
   ]
  },
  {
   "cell_type": "code",
   "execution_count": 6,
   "metadata": {},
   "outputs": [],
   "source": [
    "def company_email(company):\n",
    "    \"\"\"\n",
    "    Generate a company email domain based on a given company name.\n",
    "    This is done by removing `filler` words, most punctuation and then removing spaces.\n",
    "    \"\"\"\n",
    "    email = company.lower()\n",
    "    for element in remove:\n",
    "        email = re.sub(element, '', email)\n",
    "    email = punctuations_remover(email, punctuationlist)\n",
    "    email = email.title()\n",
    "    email = re.sub(' +', '', email)\n",
    "    suffix = fake.tld()\n",
    "    email = email + '.' + suffix\n",
    "    return email"
   ]
  },
  {
   "cell_type": "code",
   "execution_count": 7,
   "metadata": {},
   "outputs": [],
   "source": [
    "# Generate a list of dictionaries for companies\n",
    "company_dict = []\n",
    "for company in companies:\n",
    "    email = company_email(company)\n",
    "    row = {'CompanyName': company, 'Email': email}\n",
    "    company_dict.append(row)"
   ]
  },
  {
   "cell_type": "code",
   "execution_count": 8,
   "metadata": {},
   "outputs": [
    {
     "data": {
      "text/plain": [
       "[{'CompanyName': 'Faulkner-Howard', 'Email': 'Faulkner-Howard.com'},\n",
       " {'CompanyName': 'Terceroon', 'Email': 'Terceroon.net'},\n",
       " {'CompanyName': 'Sheppard-Tucker', 'Email': 'Sheppard-Tucker.org'},\n",
       " {'CompanyName': 'Musterer', 'Email': 'Musterer.com'},\n",
       " {'CompanyName': 'Dewlike', 'Email': 'Dewlike.com'},\n",
       " {'CompanyName': 'Wagner LLC', 'Email': 'Wagner.com'},\n",
       " {'CompanyName': 'Campos PLC', 'Email': 'Campos.com'},\n",
       " {'CompanyName': 'Chang-Fisher', 'Email': 'Chang-Fisher.co.uk'},\n",
       " {'CompanyName': 'Jumblers', 'Email': 'Jumblers.com'},\n",
       " {'CompanyName': 'Daboia', 'Email': 'Daboia.info'}]"
      ]
     },
     "execution_count": 8,
     "metadata": {},
     "output_type": "execute_result"
    }
   ],
   "source": [
    "company_dict"
   ]
  }
 ],
 "metadata": {
  "kernelspec": {
   "display_name": "Python 3",
   "language": "python",
   "name": "python3"
  },
  "language_info": {
   "codemirror_mode": {
    "name": "ipython",
    "version": 3
   },
   "file_extension": ".py",
   "mimetype": "text/x-python",
   "name": "python",
   "nbconvert_exporter": "python",
   "pygments_lexer": "ipython3",
   "version": "3.11.9"
  }
 },
 "nbformat": 4,
 "nbformat_minor": 2
}
