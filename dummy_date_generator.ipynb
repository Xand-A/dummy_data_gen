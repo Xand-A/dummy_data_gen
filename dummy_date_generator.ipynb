{
 "cells": [
  {
   "cell_type": "markdown",
   "metadata": {},
   "source": [
    "## Start and end date generator\n",
    "\n",
    "Notebook using Faker to explore generatation of random start and end dates"
   ]
  },
  {
   "cell_type": "code",
   "execution_count": 1,
   "metadata": {},
   "outputs": [],
   "source": [
    "from faker import Faker\n",
    "from faker.providers import BaseProvider\n",
    "from datetime import datetime, timedelta"
   ]
  },
  {
   "cell_type": "code",
   "execution_count": 2,
   "metadata": {},
   "outputs": [],
   "source": [
    "#Create a faker object\n",
    "fake = Faker()"
   ]
  },
  {
   "cell_type": "code",
   "execution_count": 3,
   "metadata": {},
   "outputs": [],
   "source": [
    "def date_generator():\n",
    "    '''\n",
    "    Generate a random dates using faker and that will the start date\n",
    "    Then add 364 days to that date to get end date\n",
    "    '''\n",
    "    Faker.seed(0)\n",
    "    for _ in range(5):\n",
    "        #Generate date\n",
    "        dt = fake.date()\n",
    "        \n",
    "        #Convert dt format and store in the variable start_date\n",
    "        start_date = datetime.strptime(dt, '%Y-%m-%d')\n",
    "        start_date = start_date.strftime(\"%d/%m/%Y\")\n",
    "        print(\"Getting start date:\",start_date)\n",
    "        \n",
    "        #Convert dt to datetime object to generate end date\n",
    "        dt = datetime.fromisoformat(dt)\n",
    "        \n",
    "        #Add days to date to get a date after a year\n",
    "        td = timedelta(days=364)\n",
    "        \n",
    "        # your calculated date\n",
    "        end_date = dt + td\n",
    "\n",
    "        #Get date from the datetime object \n",
    "        end_date = end_date.strftime(\"%d/%m/%Y\") # Get the current date from the local date and time\n",
    "        print(\"Getting end date:\",end_date) #\n",
    "        print(\"******************\")"
   ]
  },
  {
   "cell_type": "code",
   "execution_count": 4,
   "metadata": {},
   "outputs": [
    {
     "name": "stdout",
     "output_type": "stream",
     "text": [
      "Getting start date: 20/03/1996\n",
      "Getting end date: 19/03/1997\n",
      "******************\n",
      "Getting start date: 31/07/2021\n",
      "Getting end date: 30/07/2022\n",
      "******************\n",
      "Getting start date: 15/08/1998\n",
      "Getting end date: 14/08/1999\n",
      "******************\n",
      "Getting start date: 03/10/1972\n",
      "Getting end date: 02/10/1973\n",
      "******************\n",
      "Getting start date: 15/08/1987\n",
      "Getting end date: 13/08/1988\n",
      "******************\n"
     ]
    }
   ],
   "source": [
    "date_generator()"
   ]
  }
 ],
 "metadata": {
  "kernelspec": {
   "display_name": "Python 3",
   "language": "python",
   "name": "python3"
  },
  "language_info": {
   "codemirror_mode": {
    "name": "ipython",
    "version": 3
   },
   "file_extension": ".py",
   "mimetype": "text/x-python",
   "name": "python",
   "nbconvert_exporter": "python",
   "pygments_lexer": "ipython3",
   "version": "3.11.9"
  }
 },
 "nbformat": 4,
 "nbformat_minor": 2
}
